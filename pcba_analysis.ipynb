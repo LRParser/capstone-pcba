{
 "cells": [
  {
   "cell_type": "code",
   "execution_count": 35,
   "metadata": {},
   "outputs": [
    {
     "name": "stderr",
     "output_type": "stream",
     "text": [
      "/home/joe/anaconda3/envs/capstone-pcba/lib/python3.5/site-packages/IPython/core/interactiveshell.py:2717: DtypeWarning: Columns (0,8,9,12,13,14,15,16,17,19,20,21,22,23,24,25,26,27,28,29,30,31,32,33,34,35,36,37,38,39,40,41,42,43,44,45) have mixed types. Specify dtype option on import or set low_memory=False.\n",
      "  interactivity=interactivity, compiler=compiler, result=result)\n"
     ]
    }
   ],
   "source": [
    "import numpy as np\n",
    "import pandas as pd\n",
    "from sklearn.cross_validation import ShuffleSplit\n",
    "\n",
    "data = pd.read_csv('AID_1030_datatable_all.csv')\n",
    "\n",
    "# Remove the header data\n",
    "data = data[5:-1]\n",
    "\n",
    "data[\"smiles\"] = \"TBD\"\n",
    "\n",
    "#df_length = len(data)\n",
    "# Add a column for SMILES strings\n",
    "\n",
    "#string_series = pd.Series(data=[str(x) for x in range(0,df_length)],dtype=str)\n",
    "#string_series[0] = \"Test\"\n",
    "\n",
    "#string_series = string_series.astype(str)\n",
    "\n",
    "#active_compounds.append(string_series)\n",
    "\n",
    "#string_df = string_series.to_frame()\n",
    "\n",
    "outcomes = data['PUBCHEM_ACTIVITY_OUTCOME']\n",
    "features = data.drop('PUBCHEM_ACTIVITY_OUTCOME', axis = 1)\n",
    "\n",
    "active_compounds = data.loc[data['PUBCHEM_ACTIVITY_OUTCOME'] == 'Active'] \n",
    "inactive_compounds = data.loc[data['PUBCHEM_ACTIVITY_OUTCOME'] != 'Active'] \n"
   ]
  },
  {
   "cell_type": "code",
   "execution_count": null,
   "metadata": {},
   "outputs": [
    {
     "name": "stdout",
     "output_type": "stream",
     "text": [
      "Total active assay size is: 220401\n"
     ]
    },
    {
     "name": "stderr",
     "output_type": "stream",
     "text": [
      "/home/joe/anaconda3/envs/capstone-pcba/lib/python3.5/site-packages/pandas/core/indexing.py:337: SettingWithCopyWarning: \n",
      "A value is trying to be set on a copy of a slice from a DataFrame.\n",
      "Try using .loc[row_indexer,col_indexer] = value instead\n",
      "\n",
      "See the caveats in the documentation: http://pandas.pydata.org/pandas-docs/stable/indexing.html#indexing-view-versus-copy\n",
      "  self.obj[key] = _infer_fill_value(value)\n",
      "/home/joe/anaconda3/envs/capstone-pcba/lib/python3.5/site-packages/pandas/core/indexing.py:517: SettingWithCopyWarning: \n",
      "A value is trying to be set on a copy of a slice from a DataFrame.\n",
      "Try using .loc[row_indexer,col_indexer] = value instead\n",
      "\n",
      "See the caveats in the documentation: http://pandas.pydata.org/pandas-docs/stable/indexing.html#indexing-view-versus-copy\n",
      "  self.obj[item] = s\n"
     ]
    },
    {
     "name": "stdout",
     "output_type": "stream",
     "text": [
      "Processed index: 1200\n",
      "Processed index: 1500\n",
      "Processed index: 1900\n",
      "Processed index: 2300\n",
      "Processed index: 5000\n",
      "Processed index: 5400\n"
     ]
    }
   ],
   "source": [
    "# Get the SMILES representation via PubChemPy\n",
    "from pubchempy import Compound\n",
    "\n",
    "print(\"Total active assay size is: {}\".format(df_length))\n",
    "\n",
    "col_idx = active_compounds.columns.get_loc(\"smiles\")\n",
    "\n",
    "for index, row in active_compounds.iterrows():\n",
    "    compound_id = row[\"PUBCHEM_CID\"]\n",
    "    comp = Compound.from_cid(int(compound_id))\n",
    "    active_compounds.loc[index, col_idx] = comp.isomeric_smiles\n",
    "    if index % 100 == 0:\n",
    "        print(\"Processed index: {0}\".format(index))\n",
    "\n",
    "print(\"Iterated all rows\")"
   ]
  },
  {
   "cell_type": "code",
   "execution_count": 39,
   "metadata": {},
   "outputs": [
    {
     "name": "stdout",
     "output_type": "stream",
     "text": [
      "31     C1CCC2=C(C1)C(=C(S2)NC(=O)CSC3=NC4=CC=CC=C4C(=...\n",
      "42      CC1=C(N2C(=NC=N2)N=C1C)N3CCN(CC3)C(=O)CC4=CC=CS4\n",
      "44                                                   TBD\n",
      "49                                                   TBD\n",
      "62                                                   TBD\n",
      "64                                                   TBD\n",
      "65                                                   TBD\n",
      "66                                                   TBD\n",
      "76                                                   TBD\n",
      "78                                                   TBD\n",
      "93                                                   TBD\n",
      "105                                                  TBD\n",
      "111                                                  TBD\n",
      "150                                                  TBD\n",
      "154                                                  TBD\n",
      "162                                                  TBD\n",
      "163                                                  TBD\n",
      "173                                                  TBD\n",
      "174                                                  TBD\n",
      "197                                                  TBD\n",
      "228                                                  TBD\n",
      "235                                                  TBD\n",
      "237                                                  TBD\n",
      "257                                                  TBD\n",
      "262                                                  TBD\n",
      "363                                                  TBD\n",
      "383                                                  TBD\n",
      "394                                                  TBD\n",
      "408                                                  TBD\n",
      "423                                                  TBD\n",
      "428                                                  TBD\n",
      "444                                                  TBD\n",
      "481                                                  TBD\n",
      "492                                                  TBD\n",
      "504                                                  TBD\n",
      "505                                                  TBD\n",
      "522                                                  TBD\n",
      "532                                                  TBD\n",
      "537                                                  TBD\n",
      "552                                                  TBD\n",
      "Name: smiles, dtype: object\n"
     ]
    }
   ],
   "source": [
    "print(active_compounds[\"smiles\"][0:40])"
   ]
  },
  {
   "cell_type": "code",
   "execution_count": null,
   "metadata": {
    "collapsed": true
   },
   "outputs": [],
   "source": [
    "# Calculate similarity scores\n",
    "\n",
    "from __future__ import print_function\n",
    "from rdkit import Chem\n",
    "\n",
    "first_active_"
   ]
  },
  {
   "cell_type": "markdown",
   "metadata": {},
   "source": [
    "###### Get the SMILES representation via PubChemPy\n",
    "123456789"
   ]
  },
  {
   "cell_type": "markdown",
   "metadata": {},
   "source": [
    "###### from sklearn.cross_validation import train_test_split\n",
    "\n",
    "# TODO: Shuffle and split the data into training and testing subsets\n",
    "X_train, X_test, y_train, y_test = train_test_split(features, outcomes, test_size=.2, train_size=.8, random_state=0)"
   ]
  },
  {
   "cell_type": "code",
   "execution_count": null,
   "metadata": {
    "collapsed": true
   },
   "outputs": [],
   "source": []
  }
 ],
 "metadata": {
  "kernelspec": {
   "display_name": "Python [conda env:capstone-pcba]",
   "language": "python",
   "name": "conda-env-capstone-pcba-py"
  },
  "language_info": {
   "codemirror_mode": {
    "name": "ipython",
    "version": 3
   },
   "file_extension": ".py",
   "mimetype": "text/x-python",
   "name": "python",
   "nbconvert_exporter": "python",
   "pygments_lexer": "ipython3",
   "version": "3.5.3"
  }
 },
 "nbformat": 4,
 "nbformat_minor": 2
}
